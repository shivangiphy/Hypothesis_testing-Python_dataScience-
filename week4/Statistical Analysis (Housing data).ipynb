{
 "cells": [
  {
   "cell_type": "markdown",
   "metadata": {},
   "source": [
    "# Hypothesis testing"
   ]
  },
  {
   "cell_type": "markdown",
   "metadata": {},
   "source": [
    "Hypothesis: University towns and non-university towns have same effect on their mean housing prices during recessions."
   ]
  },
  {
   "cell_type": "markdown",
   "metadata": {},
   "source": [
    "# Data sources"
   ]
  },
  {
   "cell_type": "markdown",
   "metadata": {},
   "source": [
    "1) List of university towns from wikipedia. This is a text file with 567 lines either containing state name or the name of city and the university in the city.\n",
    "\n",
    "<img src=\"univ_town_list.png\">"
   ]
  },
  {
   "cell_type": "markdown",
   "metadata": {},
   "source": [
    "2) Housing data from Zillow containg information about house sale prices in each month from the year 1996 to 2016. A snapshot of the csv file is shown here.\n",
    "\n",
    "<img src=\"zillow_housing_data.png\">"
   ]
  },
  {
   "attachments": {},
   "cell_type": "markdown",
   "metadata": {},
   "source": [
    "3) Quarterly GDP data from US Department of Commerce, Bureau of Economic Analysis. A snapshot of the excel file is shown below.\n",
    "\n",
    "<img src=\"gdp.png\">"
   ]
  },
  {
   "cell_type": "code",
   "execution_count": 1,
   "metadata": {},
   "outputs": [],
   "source": [
    "import pandas as pd\n",
    "import numpy as np\n",
    "from scipy.stats import ttest_ind\n",
    "import numpy as np\n",
    "import matplotlib.pyplot as plt\n",
    "from scipy.stats import norm"
   ]
  },
  {
   "cell_type": "code",
   "execution_count": 2,
   "metadata": {},
   "outputs": [
    {
     "data": {
      "text/html": [
       "<div>\n",
       "<style scoped>\n",
       "    .dataframe tbody tr th:only-of-type {\n",
       "        vertical-align: middle;\n",
       "    }\n",
       "\n",
       "    .dataframe tbody tr th {\n",
       "        vertical-align: top;\n",
       "    }\n",
       "\n",
       "    .dataframe thead th {\n",
       "        text-align: right;\n",
       "    }\n",
       "</style>\n",
       "<table border=\"1\" class=\"dataframe\">\n",
       "  <thead>\n",
       "    <tr style=\"text-align: right;\">\n",
       "      <th></th>\n",
       "      <th>State</th>\n",
       "      <th>RegionName</th>\n",
       "    </tr>\n",
       "  </thead>\n",
       "  <tbody>\n",
       "    <tr>\n",
       "      <th>0</th>\n",
       "      <td>Alabama</td>\n",
       "      <td>Auburn</td>\n",
       "    </tr>\n",
       "    <tr>\n",
       "      <th>1</th>\n",
       "      <td>Alabama</td>\n",
       "      <td>Florence</td>\n",
       "    </tr>\n",
       "    <tr>\n",
       "      <th>2</th>\n",
       "      <td>Alabama</td>\n",
       "      <td>Jacksonville</td>\n",
       "    </tr>\n",
       "    <tr>\n",
       "      <th>3</th>\n",
       "      <td>Alabama</td>\n",
       "      <td>Livingston</td>\n",
       "    </tr>\n",
       "    <tr>\n",
       "      <th>4</th>\n",
       "      <td>Alabama</td>\n",
       "      <td>Montevallo</td>\n",
       "    </tr>\n",
       "    <tr>\n",
       "      <th>...</th>\n",
       "      <td>...</td>\n",
       "      <td>...</td>\n",
       "    </tr>\n",
       "    <tr>\n",
       "      <th>512</th>\n",
       "      <td>Wisconsin</td>\n",
       "      <td>River Falls</td>\n",
       "    </tr>\n",
       "    <tr>\n",
       "      <th>513</th>\n",
       "      <td>Wisconsin</td>\n",
       "      <td>Stevens Point</td>\n",
       "    </tr>\n",
       "    <tr>\n",
       "      <th>514</th>\n",
       "      <td>Wisconsin</td>\n",
       "      <td>Waukesha</td>\n",
       "    </tr>\n",
       "    <tr>\n",
       "      <th>515</th>\n",
       "      <td>Wisconsin</td>\n",
       "      <td>Whitewater</td>\n",
       "    </tr>\n",
       "    <tr>\n",
       "      <th>516</th>\n",
       "      <td>Wyoming</td>\n",
       "      <td>Laramie</td>\n",
       "    </tr>\n",
       "  </tbody>\n",
       "</table>\n",
       "<p>517 rows × 2 columns</p>\n",
       "</div>"
      ],
      "text/plain": [
       "         State     RegionName\n",
       "0      Alabama         Auburn\n",
       "1      Alabama       Florence\n",
       "2      Alabama   Jacksonville\n",
       "3      Alabama     Livingston\n",
       "4      Alabama     Montevallo\n",
       "..         ...            ...\n",
       "512  Wisconsin    River Falls\n",
       "513  Wisconsin  Stevens Point\n",
       "514  Wisconsin       Waukesha\n",
       "515  Wisconsin     Whitewater\n",
       "516    Wyoming        Laramie\n",
       "\n",
       "[517 rows x 2 columns]"
      ]
     },
     "execution_count": 2,
     "metadata": {},
     "output_type": "execute_result"
    }
   ],
   "source": [
    "def get_list_of_university_towns():\n",
    "    '''Returns a DataFrame of towns and the states they are in from the \n",
    "    university_towns.txt list.     \n",
    "    \n",
    "    Following steps were taken to extract the required information in the desired format:\n",
    "\n",
    "    1. For \"State\", removing characters from \"[\" to the end.\n",
    "    2. For \"RegionName\", when applicable, removing every character from \" (\" to the end.'''\n",
    "    uni_towns=pd.DataFrame(columns=['State','RegionName'])\n",
    "    with open('university_towns.txt', 'r') as f:\n",
    "\n",
    "        #Read non-empty lines:\n",
    "        data = (line.rstrip() for line in f)\n",
    "        lines = list(line for line in data if line)\n",
    "\n",
    "        #Get the index of states:\n",
    "        r_idx = [lines.index(line) for line in lines if '[edit]' in line]\n",
    "\n",
    "        #Separating states and university names using wrapping indexes:\n",
    "        university = []\n",
    "        state = [lines[i].replace('[edit]', '') for i in r_idx]\n",
    "        for i in range(len(r_idx)):\n",
    "            if i != len(r_idx)-1:\n",
    "                index_range=[j for j in range(r_idx[i]+1,r_idx[i+1])]\n",
    "                regions=[lines[j].split(\" (\")[0] for j in index_range]\n",
    "                for region in regions:\n",
    "                    uni_towns=uni_towns.append(pd.DataFrame([[state[i],region]],columns=['State','RegionName']),ignore_index=True)\n",
    "            else:\n",
    "                index_range=[j for j in range(r_idx[i]+1,len(lines))]\n",
    "                regions = [lines[j].split(\" (\")[0] for j in index_range]\n",
    "                for region in regions:\n",
    "                    uni_towns=uni_towns.append(pd.DataFrame([[state[i],region]],columns=['State','RegionName']),ignore_index=True)\n",
    "    return uni_towns\n",
    "get_list_of_university_towns()"
   ]
  },
  {
   "cell_type": "markdown",
   "metadata": {},
   "source": [
    "# Get the quarter when recession starts"
   ]
  },
  {
   "cell_type": "markdown",
   "metadata": {},
   "source": [
    "Recession start is defined by two consecutive quarters of decline in GDP."
   ]
  },
  {
   "cell_type": "code",
   "execution_count": 3,
   "metadata": {},
   "outputs": [
    {
     "data": {
      "text/plain": [
       "'2008q3'"
      ]
     },
     "execution_count": 3,
     "metadata": {},
     "output_type": "execute_result"
    }
   ],
   "source": [
    "def get_recession_start():\n",
    "    '''Returns the year and quarter of the recession start time after year 2000.'''\n",
    "    gdp=pd.read_excel('gdplev.xls',usecols=\"E,G\",skiprows=219,names=['Quarter','GDP']).set_index('Quarter')\n",
    "    gdp['GDP change']=gdp['GDP']-gdp['GDP'].shift(+1)\n",
    "    gdp['RecessionStart'] = (gdp['GDP change'] < 0) & (gdp['GDP change'].shift(-1) < 0)& (gdp['GDP change'].shift(+1) > 0)\n",
    "    return gdp.index[gdp['RecessionStart']][0]\n",
    "get_recession_start()"
   ]
  },
  {
   "cell_type": "markdown",
   "metadata": {},
   "source": [
    "# Get recession end quarter"
   ]
  },
  {
   "cell_type": "markdown",
   "metadata": {},
   "source": [
    "Recession end is defined by two consecutive quarters with GDP increase."
   ]
  },
  {
   "cell_type": "code",
   "execution_count": 4,
   "metadata": {},
   "outputs": [
    {
     "data": {
      "text/plain": [
       "'2009q4'"
      ]
     },
     "execution_count": 4,
     "metadata": {},
     "output_type": "execute_result"
    }
   ],
   "source": [
    "def get_recession_end():\n",
    "    '''Returns the year and quarter of the recession end time'''\n",
    "    rstart=get_recession_start()\n",
    "    gdp=pd.read_excel('gdplev.xls',usecols=\"E,G\",skiprows=219,names=['Quarter','GDP']).set_index('Quarter')\n",
    "    gdp['GDP change']=gdp['GDP']-gdp['GDP'].shift(+1)\n",
    "    gdp['RecessionEnd'] = (gdp['GDP change'] > 0) & (gdp['GDP change'].shift(+1) > 0)&(gdp['GDP change'].shift(+2) < 0)\n",
    "    #return gdp\n",
    "    list_of_year=list(gdp.index[gdp['RecessionEnd']])\n",
    "    for year in list_of_year:\n",
    "        if(year>rstart):\n",
    "            rend=year\n",
    "            break\n",
    "    #rend=[year in list_of_year if(year > rstart)]\n",
    "    return rend\n",
    "get_recession_end()"
   ]
  },
  {
   "cell_type": "markdown",
   "metadata": {},
   "source": [
    "# Get recession bottom"
   ]
  },
  {
   "cell_type": "markdown",
   "metadata": {},
   "source": [
    "Recession bottom is defined as the quarter with minimum GDP between the start and end of recession"
   ]
  },
  {
   "cell_type": "code",
   "execution_count": 5,
   "metadata": {},
   "outputs": [
    {
     "name": "stderr",
     "output_type": "stream",
     "text": [
      "/home/shivangi/anaconda2/envs/python3/lib/python3.7/site-packages/numpy/core/fromnumeric.py:61: FutureWarning: \n",
      "The current behaviour of 'Series.argmin' is deprecated, use 'idxmin'\n",
      "instead.\n",
      "The behavior of 'argmin' will be corrected to return the positional\n",
      "minimum in the future. For now, use 'series.values.argmin' or\n",
      "'np.argmin(np.array(values))' to get the position of the minimum\n",
      "row.\n",
      "  return bound(*args, **kwds)\n"
     ]
    },
    {
     "data": {
      "text/plain": [
       "'2009q2'"
      ]
     },
     "execution_count": 5,
     "metadata": {},
     "output_type": "execute_result"
    }
   ],
   "source": [
    "def get_recession_bottom():\n",
    "    '''Returns the year and quarter of the recession bottom time'''\n",
    "    rstart=get_recession_start()\n",
    "    rend=get_recession_end()\n",
    "    gdp=pd.read_excel('gdplev.xls',usecols=\"E,G\",skiprows=219,names=['Quarter','GDP']).set_index('Quarter')\n",
    "    rbottom=np.argmin(gdp.loc[rstart:rend,'GDP'])\n",
    "    return rbottom\n",
    "get_recession_bottom()"
   ]
  },
  {
   "cell_type": "markdown",
   "metadata": {},
   "source": [
    "# Converting the monthly housing prices to quarterly prices"
   ]
  },
  {
   "cell_type": "code",
   "execution_count": 6,
   "metadata": {},
   "outputs": [],
   "source": [
    "# Use this dictionary to map state names to two letter acronyms\n",
    "states = {'OH': 'Ohio', 'KY': 'Kentucky', 'AS': 'American Samoa', 'NV': 'Nevada', 'WY': 'Wyoming', 'NA': 'National', 'AL': 'Alabama', 'MD': 'Maryland', 'AK': 'Alaska', 'UT': 'Utah', 'OR': 'Oregon', 'MT': 'Montana', 'IL': 'Illinois', 'TN': 'Tennessee', 'DC': 'District of Columbia', 'VT': 'Vermont', 'ID': 'Idaho', 'AR': 'Arkansas', 'ME': 'Maine', 'WA': 'Washington', 'HI': 'Hawaii', 'WI': 'Wisconsin', 'MI': 'Michigan', 'IN': 'Indiana', 'NJ': 'New Jersey', 'AZ': 'Arizona', 'GU': 'Guam', 'MS': 'Mississippi', 'PR': 'Puerto Rico', 'NC': 'North Carolina', 'TX': 'Texas', 'SD': 'South Dakota', 'MP': 'Northern Mariana Islands', 'IA': 'Iowa', 'MO': 'Missouri', 'CT': 'Connecticut', 'WV': 'West Virginia', 'SC': 'South Carolina', 'LA': 'Louisiana', 'KS': 'Kansas', 'NY': 'New York', 'NE': 'Nebraska', 'OK': 'Oklahoma', 'FL': 'Florida', 'CA': 'California', 'CO': 'Colorado', 'PA': 'Pennsylvania', 'DE': 'Delaware', 'NM': 'New Mexico', 'RI': 'Rhode Island', 'MN': 'Minnesota', 'VI': 'Virgin Islands', 'NH': 'New Hampshire', 'MA': 'Massachusetts', 'GA': 'Georgia', 'ND': 'North Dakota', 'VA': 'Virginia'}"
   ]
  },
  {
   "cell_type": "code",
   "execution_count": 7,
   "metadata": {},
   "outputs": [
    {
     "data": {
      "text/html": [
       "<div>\n",
       "<style scoped>\n",
       "    .dataframe tbody tr th:only-of-type {\n",
       "        vertical-align: middle;\n",
       "    }\n",
       "\n",
       "    .dataframe tbody tr th {\n",
       "        vertical-align: top;\n",
       "    }\n",
       "\n",
       "    .dataframe thead th {\n",
       "        text-align: right;\n",
       "    }\n",
       "</style>\n",
       "<table border=\"1\" class=\"dataframe\">\n",
       "  <thead>\n",
       "    <tr style=\"text-align: right;\">\n",
       "      <th></th>\n",
       "      <th>yearQ</th>\n",
       "      <th>2000q1</th>\n",
       "      <th>2000q2</th>\n",
       "      <th>2000q3</th>\n",
       "      <th>2000q4</th>\n",
       "      <th>2001q1</th>\n",
       "      <th>2001q2</th>\n",
       "      <th>2001q3</th>\n",
       "      <th>2001q4</th>\n",
       "      <th>2002q1</th>\n",
       "      <th>2002q2</th>\n",
       "      <th>...</th>\n",
       "      <th>2014q2</th>\n",
       "      <th>2014q3</th>\n",
       "      <th>2014q4</th>\n",
       "      <th>2015q1</th>\n",
       "      <th>2015q2</th>\n",
       "      <th>2015q3</th>\n",
       "      <th>2015q4</th>\n",
       "      <th>2016q1</th>\n",
       "      <th>2016q2</th>\n",
       "      <th>2016q3</th>\n",
       "    </tr>\n",
       "    <tr>\n",
       "      <th>State</th>\n",
       "      <th>RegionName</th>\n",
       "      <th></th>\n",
       "      <th></th>\n",
       "      <th></th>\n",
       "      <th></th>\n",
       "      <th></th>\n",
       "      <th></th>\n",
       "      <th></th>\n",
       "      <th></th>\n",
       "      <th></th>\n",
       "      <th></th>\n",
       "      <th></th>\n",
       "      <th></th>\n",
       "      <th></th>\n",
       "      <th></th>\n",
       "      <th></th>\n",
       "      <th></th>\n",
       "      <th></th>\n",
       "      <th></th>\n",
       "      <th></th>\n",
       "      <th></th>\n",
       "      <th></th>\n",
       "    </tr>\n",
       "  </thead>\n",
       "  <tbody>\n",
       "    <tr>\n",
       "      <th rowspan=\"5\" valign=\"top\">Alabama</th>\n",
       "      <th>Adamsville</th>\n",
       "      <td>69033.333333</td>\n",
       "      <td>69166.666667</td>\n",
       "      <td>69800.000000</td>\n",
       "      <td>71966.666667</td>\n",
       "      <td>73466.666667</td>\n",
       "      <td>74000.000000</td>\n",
       "      <td>73333.333333</td>\n",
       "      <td>73100.000000</td>\n",
       "      <td>73333.333333</td>\n",
       "      <td>73133.333333</td>\n",
       "      <td>...</td>\n",
       "      <td>77066.666667</td>\n",
       "      <td>75966.666667</td>\n",
       "      <td>71900.000000</td>\n",
       "      <td>71666.666667</td>\n",
       "      <td>73033.333333</td>\n",
       "      <td>73933.333333</td>\n",
       "      <td>73866.666667</td>\n",
       "      <td>74166.666667</td>\n",
       "      <td>74933.333333</td>\n",
       "      <td>74700.0</td>\n",
       "    </tr>\n",
       "    <tr>\n",
       "      <th>Alabaster</th>\n",
       "      <td>122133.333333</td>\n",
       "      <td>123066.666667</td>\n",
       "      <td>123166.666667</td>\n",
       "      <td>123700.000000</td>\n",
       "      <td>123233.333333</td>\n",
       "      <td>125133.333333</td>\n",
       "      <td>127766.666667</td>\n",
       "      <td>127200.000000</td>\n",
       "      <td>127300.000000</td>\n",
       "      <td>128000.000000</td>\n",
       "      <td>...</td>\n",
       "      <td>147133.333333</td>\n",
       "      <td>147633.333333</td>\n",
       "      <td>148700.000000</td>\n",
       "      <td>148900.000000</td>\n",
       "      <td>149566.666667</td>\n",
       "      <td>150366.666667</td>\n",
       "      <td>151733.333333</td>\n",
       "      <td>153466.666667</td>\n",
       "      <td>155100.000000</td>\n",
       "      <td>155850.0</td>\n",
       "    </tr>\n",
       "    <tr>\n",
       "      <th>Albertville</th>\n",
       "      <td>73966.666667</td>\n",
       "      <td>72600.000000</td>\n",
       "      <td>72833.333333</td>\n",
       "      <td>74200.000000</td>\n",
       "      <td>75900.000000</td>\n",
       "      <td>76000.000000</td>\n",
       "      <td>72066.666667</td>\n",
       "      <td>73566.666667</td>\n",
       "      <td>76533.333333</td>\n",
       "      <td>76366.666667</td>\n",
       "      <td>...</td>\n",
       "      <td>84033.333333</td>\n",
       "      <td>84766.666667</td>\n",
       "      <td>86800.000000</td>\n",
       "      <td>88466.666667</td>\n",
       "      <td>89500.000000</td>\n",
       "      <td>90233.333333</td>\n",
       "      <td>91366.666667</td>\n",
       "      <td>92000.000000</td>\n",
       "      <td>92466.666667</td>\n",
       "      <td>92200.0</td>\n",
       "    </tr>\n",
       "    <tr>\n",
       "      <th>Arab</th>\n",
       "      <td>83766.666667</td>\n",
       "      <td>81566.666667</td>\n",
       "      <td>81333.333333</td>\n",
       "      <td>82966.666667</td>\n",
       "      <td>84200.000000</td>\n",
       "      <td>84533.333333</td>\n",
       "      <td>81666.666667</td>\n",
       "      <td>83900.000000</td>\n",
       "      <td>87266.666667</td>\n",
       "      <td>87700.000000</td>\n",
       "      <td>...</td>\n",
       "      <td>113366.666667</td>\n",
       "      <td>111700.000000</td>\n",
       "      <td>111600.000000</td>\n",
       "      <td>110166.666667</td>\n",
       "      <td>109433.333333</td>\n",
       "      <td>110900.000000</td>\n",
       "      <td>112233.333333</td>\n",
       "      <td>110033.333333</td>\n",
       "      <td>110100.000000</td>\n",
       "      <td>112000.0</td>\n",
       "    </tr>\n",
       "    <tr>\n",
       "      <th>Ardmore</th>\n",
       "      <td>NaN</td>\n",
       "      <td>NaN</td>\n",
       "      <td>NaN</td>\n",
       "      <td>NaN</td>\n",
       "      <td>NaN</td>\n",
       "      <td>NaN</td>\n",
       "      <td>NaN</td>\n",
       "      <td>NaN</td>\n",
       "      <td>NaN</td>\n",
       "      <td>NaN</td>\n",
       "      <td>...</td>\n",
       "      <td>140533.333333</td>\n",
       "      <td>139566.666667</td>\n",
       "      <td>140900.000000</td>\n",
       "      <td>143233.333333</td>\n",
       "      <td>143000.000000</td>\n",
       "      <td>144600.000000</td>\n",
       "      <td>143966.666667</td>\n",
       "      <td>142566.666667</td>\n",
       "      <td>143233.333333</td>\n",
       "      <td>141950.0</td>\n",
       "    </tr>\n",
       "    <tr>\n",
       "      <th>...</th>\n",
       "      <th>...</th>\n",
       "      <td>...</td>\n",
       "      <td>...</td>\n",
       "      <td>...</td>\n",
       "      <td>...</td>\n",
       "      <td>...</td>\n",
       "      <td>...</td>\n",
       "      <td>...</td>\n",
       "      <td>...</td>\n",
       "      <td>...</td>\n",
       "      <td>...</td>\n",
       "      <td>...</td>\n",
       "      <td>...</td>\n",
       "      <td>...</td>\n",
       "      <td>...</td>\n",
       "      <td>...</td>\n",
       "      <td>...</td>\n",
       "      <td>...</td>\n",
       "      <td>...</td>\n",
       "      <td>...</td>\n",
       "      <td>...</td>\n",
       "      <td>...</td>\n",
       "    </tr>\n",
       "    <tr>\n",
       "      <th rowspan=\"5\" valign=\"top\">Wyoming</th>\n",
       "      <th>Burns</th>\n",
       "      <td>101533.333333</td>\n",
       "      <td>104566.666667</td>\n",
       "      <td>108366.666667</td>\n",
       "      <td>113000.000000</td>\n",
       "      <td>115833.333333</td>\n",
       "      <td>117200.000000</td>\n",
       "      <td>117800.000000</td>\n",
       "      <td>117633.333333</td>\n",
       "      <td>117333.333333</td>\n",
       "      <td>117233.333333</td>\n",
       "      <td>...</td>\n",
       "      <td>168866.666667</td>\n",
       "      <td>161933.333333</td>\n",
       "      <td>160433.333333</td>\n",
       "      <td>162600.000000</td>\n",
       "      <td>163066.666667</td>\n",
       "      <td>164600.000000</td>\n",
       "      <td>164300.000000</td>\n",
       "      <td>168266.666667</td>\n",
       "      <td>171600.000000</td>\n",
       "      <td>170500.0</td>\n",
       "    </tr>\n",
       "    <tr>\n",
       "      <th>Casper</th>\n",
       "      <td>89233.333333</td>\n",
       "      <td>89600.000000</td>\n",
       "      <td>89733.333333</td>\n",
       "      <td>93166.666667</td>\n",
       "      <td>95500.000000</td>\n",
       "      <td>97633.333333</td>\n",
       "      <td>99433.333333</td>\n",
       "      <td>100633.333333</td>\n",
       "      <td>101733.333333</td>\n",
       "      <td>101533.333333</td>\n",
       "      <td>...</td>\n",
       "      <td>175766.666667</td>\n",
       "      <td>177300.000000</td>\n",
       "      <td>181000.000000</td>\n",
       "      <td>182066.666667</td>\n",
       "      <td>182633.333333</td>\n",
       "      <td>183300.000000</td>\n",
       "      <td>182700.000000</td>\n",
       "      <td>184333.333333</td>\n",
       "      <td>185166.666667</td>\n",
       "      <td>184350.0</td>\n",
       "    </tr>\n",
       "    <tr>\n",
       "      <th>Cheyenne</th>\n",
       "      <td>116866.666667</td>\n",
       "      <td>120033.333333</td>\n",
       "      <td>121533.333333</td>\n",
       "      <td>123633.333333</td>\n",
       "      <td>125533.333333</td>\n",
       "      <td>126300.000000</td>\n",
       "      <td>126466.666667</td>\n",
       "      <td>128133.333333</td>\n",
       "      <td>128466.666667</td>\n",
       "      <td>129633.333333</td>\n",
       "      <td>...</td>\n",
       "      <td>177466.666667</td>\n",
       "      <td>176733.333333</td>\n",
       "      <td>178766.666667</td>\n",
       "      <td>181700.000000</td>\n",
       "      <td>183266.666667</td>\n",
       "      <td>186766.666667</td>\n",
       "      <td>190666.666667</td>\n",
       "      <td>194433.333333</td>\n",
       "      <td>196500.000000</td>\n",
       "      <td>199100.0</td>\n",
       "    </tr>\n",
       "    <tr>\n",
       "      <th>Evansville</th>\n",
       "      <td>128033.333333</td>\n",
       "      <td>128766.666667</td>\n",
       "      <td>130833.333333</td>\n",
       "      <td>132066.666667</td>\n",
       "      <td>130566.666667</td>\n",
       "      <td>131433.333333</td>\n",
       "      <td>132400.000000</td>\n",
       "      <td>133466.666667</td>\n",
       "      <td>133300.000000</td>\n",
       "      <td>131066.666667</td>\n",
       "      <td>...</td>\n",
       "      <td>296733.333333</td>\n",
       "      <td>305666.666667</td>\n",
       "      <td>309500.000000</td>\n",
       "      <td>307300.000000</td>\n",
       "      <td>303166.666667</td>\n",
       "      <td>300966.666667</td>\n",
       "      <td>304200.000000</td>\n",
       "      <td>309433.333333</td>\n",
       "      <td>309200.000000</td>\n",
       "      <td>309050.0</td>\n",
       "    </tr>\n",
       "    <tr>\n",
       "      <th>Pine Bluffs</th>\n",
       "      <td>93733.333333</td>\n",
       "      <td>95066.666667</td>\n",
       "      <td>94633.333333</td>\n",
       "      <td>98066.666667</td>\n",
       "      <td>103233.333333</td>\n",
       "      <td>104600.000000</td>\n",
       "      <td>106500.000000</td>\n",
       "      <td>104066.666667</td>\n",
       "      <td>102233.333333</td>\n",
       "      <td>103566.666667</td>\n",
       "      <td>...</td>\n",
       "      <td>148666.666667</td>\n",
       "      <td>154366.666667</td>\n",
       "      <td>158100.000000</td>\n",
       "      <td>163900.000000</td>\n",
       "      <td>167433.333333</td>\n",
       "      <td>167466.666667</td>\n",
       "      <td>169200.000000</td>\n",
       "      <td>166833.333333</td>\n",
       "      <td>163800.000000</td>\n",
       "      <td>157650.0</td>\n",
       "    </tr>\n",
       "  </tbody>\n",
       "</table>\n",
       "<p>10730 rows × 67 columns</p>\n",
       "</div>"
      ],
      "text/plain": [
       "yearQ                       2000q1         2000q2         2000q3  \\\n",
       "State   RegionName                                                 \n",
       "Alabama Adamsville    69033.333333   69166.666667   69800.000000   \n",
       "        Alabaster    122133.333333  123066.666667  123166.666667   \n",
       "        Albertville   73966.666667   72600.000000   72833.333333   \n",
       "        Arab          83766.666667   81566.666667   81333.333333   \n",
       "        Ardmore                NaN            NaN            NaN   \n",
       "...                            ...            ...            ...   \n",
       "Wyoming Burns        101533.333333  104566.666667  108366.666667   \n",
       "        Casper        89233.333333   89600.000000   89733.333333   \n",
       "        Cheyenne     116866.666667  120033.333333  121533.333333   \n",
       "        Evansville   128033.333333  128766.666667  130833.333333   \n",
       "        Pine Bluffs   93733.333333   95066.666667   94633.333333   \n",
       "\n",
       "yearQ                       2000q4         2001q1         2001q2  \\\n",
       "State   RegionName                                                 \n",
       "Alabama Adamsville    71966.666667   73466.666667   74000.000000   \n",
       "        Alabaster    123700.000000  123233.333333  125133.333333   \n",
       "        Albertville   74200.000000   75900.000000   76000.000000   \n",
       "        Arab          82966.666667   84200.000000   84533.333333   \n",
       "        Ardmore                NaN            NaN            NaN   \n",
       "...                            ...            ...            ...   \n",
       "Wyoming Burns        113000.000000  115833.333333  117200.000000   \n",
       "        Casper        93166.666667   95500.000000   97633.333333   \n",
       "        Cheyenne     123633.333333  125533.333333  126300.000000   \n",
       "        Evansville   132066.666667  130566.666667  131433.333333   \n",
       "        Pine Bluffs   98066.666667  103233.333333  104600.000000   \n",
       "\n",
       "yearQ                       2001q3         2001q4         2002q1  \\\n",
       "State   RegionName                                                 \n",
       "Alabama Adamsville    73333.333333   73100.000000   73333.333333   \n",
       "        Alabaster    127766.666667  127200.000000  127300.000000   \n",
       "        Albertville   72066.666667   73566.666667   76533.333333   \n",
       "        Arab          81666.666667   83900.000000   87266.666667   \n",
       "        Ardmore                NaN            NaN            NaN   \n",
       "...                            ...            ...            ...   \n",
       "Wyoming Burns        117800.000000  117633.333333  117333.333333   \n",
       "        Casper        99433.333333  100633.333333  101733.333333   \n",
       "        Cheyenne     126466.666667  128133.333333  128466.666667   \n",
       "        Evansville   132400.000000  133466.666667  133300.000000   \n",
       "        Pine Bluffs  106500.000000  104066.666667  102233.333333   \n",
       "\n",
       "yearQ                       2002q2  ...         2014q2         2014q3  \\\n",
       "State   RegionName                  ...                                 \n",
       "Alabama Adamsville    73133.333333  ...   77066.666667   75966.666667   \n",
       "        Alabaster    128000.000000  ...  147133.333333  147633.333333   \n",
       "        Albertville   76366.666667  ...   84033.333333   84766.666667   \n",
       "        Arab          87700.000000  ...  113366.666667  111700.000000   \n",
       "        Ardmore                NaN  ...  140533.333333  139566.666667   \n",
       "...                            ...  ...            ...            ...   \n",
       "Wyoming Burns        117233.333333  ...  168866.666667  161933.333333   \n",
       "        Casper       101533.333333  ...  175766.666667  177300.000000   \n",
       "        Cheyenne     129633.333333  ...  177466.666667  176733.333333   \n",
       "        Evansville   131066.666667  ...  296733.333333  305666.666667   \n",
       "        Pine Bluffs  103566.666667  ...  148666.666667  154366.666667   \n",
       "\n",
       "yearQ                       2014q4         2015q1         2015q2  \\\n",
       "State   RegionName                                                 \n",
       "Alabama Adamsville    71900.000000   71666.666667   73033.333333   \n",
       "        Alabaster    148700.000000  148900.000000  149566.666667   \n",
       "        Albertville   86800.000000   88466.666667   89500.000000   \n",
       "        Arab         111600.000000  110166.666667  109433.333333   \n",
       "        Ardmore      140900.000000  143233.333333  143000.000000   \n",
       "...                            ...            ...            ...   \n",
       "Wyoming Burns        160433.333333  162600.000000  163066.666667   \n",
       "        Casper       181000.000000  182066.666667  182633.333333   \n",
       "        Cheyenne     178766.666667  181700.000000  183266.666667   \n",
       "        Evansville   309500.000000  307300.000000  303166.666667   \n",
       "        Pine Bluffs  158100.000000  163900.000000  167433.333333   \n",
       "\n",
       "yearQ                       2015q3         2015q4         2016q1  \\\n",
       "State   RegionName                                                 \n",
       "Alabama Adamsville    73933.333333   73866.666667   74166.666667   \n",
       "        Alabaster    150366.666667  151733.333333  153466.666667   \n",
       "        Albertville   90233.333333   91366.666667   92000.000000   \n",
       "        Arab         110900.000000  112233.333333  110033.333333   \n",
       "        Ardmore      144600.000000  143966.666667  142566.666667   \n",
       "...                            ...            ...            ...   \n",
       "Wyoming Burns        164600.000000  164300.000000  168266.666667   \n",
       "        Casper       183300.000000  182700.000000  184333.333333   \n",
       "        Cheyenne     186766.666667  190666.666667  194433.333333   \n",
       "        Evansville   300966.666667  304200.000000  309433.333333   \n",
       "        Pine Bluffs  167466.666667  169200.000000  166833.333333   \n",
       "\n",
       "yearQ                       2016q2    2016q3  \n",
       "State   RegionName                            \n",
       "Alabama Adamsville    74933.333333   74700.0  \n",
       "        Alabaster    155100.000000  155850.0  \n",
       "        Albertville   92466.666667   92200.0  \n",
       "        Arab         110100.000000  112000.0  \n",
       "        Ardmore      143233.333333  141950.0  \n",
       "...                            ...       ...  \n",
       "Wyoming Burns        171600.000000  170500.0  \n",
       "        Casper       185166.666667  184350.0  \n",
       "        Cheyenne     196500.000000  199100.0  \n",
       "        Evansville   309200.000000  309050.0  \n",
       "        Pine Bluffs  163800.000000  157650.0  \n",
       "\n",
       "[10730 rows x 67 columns]"
      ]
     },
     "execution_count": 7,
     "metadata": {},
     "output_type": "execute_result"
    }
   ],
   "source": [
    "def value2quarter(value):\n",
    "    year, month = value.split(\"-\")\n",
    "    year = int(year)\n",
    "    month = int(month)\n",
    "    if month < 4:\n",
    "        return \"{}q{}\".format(year, 1)\n",
    "    if month < 7:\n",
    "        return \"{}q{}\".format(year, 2)\n",
    "    if month < 10:\n",
    "        return \"{}q{}\".format(year, 3)\n",
    "    return \"{}q{}\".format(year, 4)\n",
    "\n",
    "def convert_housing_data_to_quarters():\n",
    "    df = pd.read_csv(\"City_Zhvi_AllHomes.csv\")\n",
    "    df_t= pd.melt(df.drop([\"Metro\", \"CountyName\", \"SizeRank\"], axis=1), id_vars=[\"State\", \"RegionName\", \"RegionID\",])\n",
    "    df_t[\"yearQ\"] = df_t[\"variable\"].apply(value2quarter)\n",
    "    df_t = df_t[(df_t.yearQ >= \"2000q1\") & (df_t.yearQ <= \"2016q3\")]\n",
    "    df_t[\"State\"] = df_t[\"State\"].map(states)\n",
    "    answer = df_t.groupby(\n",
    "        [\"State\", \"RegionName\", \"RegionID\", \"yearQ\"]\n",
    "    )[\"value\"].mean().unstack(\"yearQ\").reset_index().drop(\"RegionID\", axis=1).set_index([\"State\", \"RegionName\"])\n",
    "    return answer\n",
    "convert_housing_data_to_quarters()"
   ]
  },
  {
   "cell_type": "markdown",
   "metadata": {},
   "source": [
    "# Exploring the effect of recession on housing prices in university and non-university towns"
   ]
  },
  {
   "cell_type": "code",
   "execution_count": 8,
   "metadata": {},
   "outputs": [],
   "source": [
    "df_university = get_list_of_university_towns()\n",
    "df_university[\"is_univ_town\"] = True\n",
    "df_university = df_university.set_index([\"State\", \"RegionName\"])\n",
    "df_housing_data = convert_housing_data_to_quarters()\n",
    "df_all = df_housing_data.merge(df_university, left_index=True, right_index=True, how=\"left\")\n",
    "df_all[\"is_univ_town\"] = df_all[\"is_univ_town\"].fillna(False)\n",
    "start = \"2008q3\"# get_recession_start()\n",
    "bottom = \"2009q2\"# get_recession_bottom()\n",
    "df_all[\"ratio\"] = df_all[bottom]/df_all[start]\n",
    "mean_price_ratio_univ = df_all.loc[df_all.is_univ_town, \"ratio\"].dropna()\n",
    "mean_price_ratio_no_univ = df_all.loc[~df_all.is_univ_town, \"ratio\"].dropna()"
   ]
  },
  {
   "cell_type": "code",
   "execution_count": 9,
   "metadata": {},
   "outputs": [
    {
     "data": {
      "text/plain": [
       "(0.967891003753308, 0.06435067670521108)"
      ]
     },
     "execution_count": 9,
     "metadata": {},
     "output_type": "execute_result"
    },
    {
     "data": {
      "image/png": "[encoded data removed]",
      "text/plain": [
       "<Figure size 432x288 with 1 Axes>"
      ]
     },
     "metadata": {
      "needs_background": "light"
     },
     "output_type": "display_data"
    }
   ],
   "source": [
    "n1, bins1, patches1 = plt.hist(mean_price_ratio_univ, 20, density=True, facecolor='blue', alpha=0.5)\n",
    "(mu_unitown, sigma_unitown) = norm.fit(mean_price_ratio_univ)\n",
    "mu_unitown,sigma_unitown\n"
   ]
  },
  {
   "cell_type": "code",
   "execution_count": 10,
   "metadata": {},
   "outputs": [
    {
     "data": {
      "text/plain": [
       "(0.9559364550248012, 0.07270502006329081)"
      ]
     },
     "execution_count": 10,
     "metadata": {},
     "output_type": "execute_result"
    },
    {
     "data": {
      "image/png": "[encoded data removed]",
      "text/plain": [
       "<Figure size 432x288 with 1 Axes>"
      ]
     },
     "metadata": {
      "needs_background": "light"
     },
     "output_type": "display_data"
    }
   ],
   "source": [
    "n2, bins2, patches2 = plt.hist(mean_price_ratio_no_univ, 20, density=True, facecolor='red', alpha=0.5)\n",
    "(mu_non_unitown, sigma_non_unitown) = norm.fit(mean_price_ratio_no_univ)\n",
    "mu_non_unitown,sigma_non_unitown"
   ]
  },
  {
   "cell_type": "markdown",
   "metadata": {},
   "source": [
    "# Run t-test (Welch's t-test)"
   ]
  },
  {
   "cell_type": "markdown",
   "metadata": {},
   "source": [
    "The variance of both samples are different hence use Welch's t-test (https://en.wikipedia.org/wiki/Student%27s_t-test#Independent_two-sample_t-test)\n",
    "\n",
    "<img src=\"welch_ttest.png\">"
   ]
  },
  {
   "cell_type": "code",
   "execution_count": 11,
   "metadata": {},
   "outputs": [
    {
     "data": {
      "text/plain": [
       "(True, 0.003689592222498831, 'university town')"
      ]
     },
     "execution_count": 11,
     "metadata": {},
     "output_type": "execute_result"
    }
   ],
   "source": [
    "def run_ttest():\n",
    "\n",
    "    statistic, pval = ttest_ind(\n",
    "        mean_price_ratio_univ, \n",
    "        mean_price_ratio_no_univ, equal_var=False)\n",
    "    different = pval < 0.01\n",
    "    better = \"university town\" if mean_price_ratio_univ.mean() > mean_price_ratio_no_univ.mean() else \"non-university town\"\n",
    "    return (different, pval, better)\n",
    "run_ttest()"
   ]
  },
  {
   "cell_type": "markdown",
   "metadata": {},
   "source": [
    "# Conclusion: The university town housing prices are less affected by recession in 2008."
   ]
  },
  {
   "cell_type": "markdown",
   "metadata": {},
   "source": [
    "## Few points for further exploration:\n",
    "### Is it true for all recession period?\n",
    "### Is it true for all kinds of housing (condo, apartements, houses etc.)?"
   ]
  },
  {
   "cell_type": "code",
   "execution_count": null,
   "metadata": {},
   "outputs": [],
   "source": []
  }
 ],
 "metadata": {
  "kernelspec": {
   "display_name": "Python 3",
   "language": "python",
   "name": "python3"
  },
  "language_info": {
   "codemirror_mode": {
    "name": "ipython",
    "version": 3
   },
   "file_extension": ".py",
   "mimetype": "text/x-python",
   "name": "python",
   "nbconvert_exporter": "python",
   "pygments_lexer": "ipython3",
   "version": "3.7.4"
  }
 },
 "nbformat": 4,
 "nbformat_minor": 2
}
